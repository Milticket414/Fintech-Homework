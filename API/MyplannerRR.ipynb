{
 "cells": [
  {
   "cell_type": "markdown",
   "metadata": {},
   "source": [
    "# Unit 5 - Financial Planning\n"
   ]
  },
  {
   "cell_type": "code",
   "execution_count": 5,
   "metadata": {},
   "outputs": [
    {
     "name": "stdout",
     "output_type": "stream",
     "text": [
      "Collecting alpaca_trade_api\n",
      "  Downloading alpaca_trade_api-0.51.0-py3-none-any.whl (39 kB)\n",
      "Collecting websocket-client<1,>=0.56.0\n",
      "  Downloading websocket_client-0.57.0-py2.py3-none-any.whl (200 kB)\n",
      "Requirement already satisfied: pandas in c:\\users\\ryan\\anaconda3\\lib\\site-packages (from alpaca_trade_api) (1.0.5)\n",
      "Requirement already satisfied: requests<3,>2 in c:\\users\\ryan\\anaconda3\\lib\\site-packages (from alpaca_trade_api) (2.24.0)\n",
      "Requirement already satisfied: urllib3<1.26,>1.24 in c:\\users\\ryan\\anaconda3\\lib\\site-packages (from alpaca_trade_api) (1.25.9)\n",
      "Collecting websockets<9,>=8.0\n",
      "  Downloading websockets-8.1-cp38-cp38-win_amd64.whl (66 kB)\n",
      "Requirement already satisfied: six in c:\\users\\ryan\\anaconda3\\lib\\site-packages (from websocket-client<1,>=0.56.0->alpaca_trade_api) (1.15.0)\n",
      "Requirement already satisfied: python-dateutil>=2.6.1 in c:\\users\\ryan\\anaconda3\\lib\\site-packages (from pandas->alpaca_trade_api) (2.8.1)\n",
      "Requirement already satisfied: pytz>=2017.2 in c:\\users\\ryan\\anaconda3\\lib\\site-packages (from pandas->alpaca_trade_api) (2020.1)\n",
      "Requirement already satisfied: numpy>=1.13.3 in c:\\users\\ryan\\anaconda3\\lib\\site-packages (from pandas->alpaca_trade_api) (1.18.5)\n",
      "Requirement already satisfied: idna<3,>=2.5 in c:\\users\\ryan\\anaconda3\\lib\\site-packages (from requests<3,>2->alpaca_trade_api) (2.10)\n",
      "Requirement already satisfied: certifi>=2017.4.17 in c:\\users\\ryan\\anaconda3\\lib\\site-packages (from requests<3,>2->alpaca_trade_api) (2020.6.20)\n",
      "Requirement already satisfied: chardet<4,>=3.0.2 in c:\\users\\ryan\\anaconda3\\lib\\site-packages (from requests<3,>2->alpaca_trade_api) (3.0.4)\n",
      "Installing collected packages: websocket-client, websockets, alpaca-trade-api\n",
      "Successfully installed alpaca-trade-api-0.51.0 websocket-client-0.57.0 websockets-8.1\n"
     ]
    }
   ],
   "source": [
    "!pip install alpaca_trade_api"
   ]
  },
  {
   "cell_type": "code",
   "execution_count": 15,
   "metadata": {},
   "outputs": [],
   "source": [
    "# Initial imports\n",
    "import os\n",
    "import requests\n",
    "import pandas as pd\n",
    "from dotenv import load_dotenv\n",
    "import alpaca_trade_api as tradeapi\n",
    "from MCForecastTools import MCSimulation\n",
    "\n",
    "%matplotlib inline"
   ]
  },
  {
   "cell_type": "code",
   "execution_count": 23,
   "metadata": {},
   "outputs": [
    {
     "data": {
      "text/plain": [
       "True"
      ]
     },
     "execution_count": 23,
     "metadata": {},
     "output_type": "execute_result"
    }
   ],
   "source": [
    "# Load .env enviroment variables\n",
    "load_dotenv()"
   ]
  },
  {
   "cell_type": "markdown",
   "metadata": {},
   "source": [
    "## Part 1 - Personal Finance Planner"
   ]
  },
  {
   "cell_type": "markdown",
   "metadata": {},
   "source": [
    "### Collect Crypto Prices Using the `requests` Library"
   ]
  },
  {
   "cell_type": "code",
   "execution_count": 17,
   "metadata": {},
   "outputs": [],
   "source": [
    "# Set current amount of crypto assets\n",
    "# YOUR CODE HERE!\n",
    "btc = 1.2\n",
    "eth = 5.3"
   ]
  },
  {
   "cell_type": "code",
   "execution_count": 18,
   "metadata": {},
   "outputs": [],
   "source": [
    "# Crypto API URLs\n",
    "btc_url = \"https://api.alternative.me/v2/ticker/Bitcoin/?convert=CAD\"\n",
    "eth_url = \"https://api.alternative.me/v2/ticker/Ethereum/?convert=CAD\""
   ]
  },
  {
   "cell_type": "code",
   "execution_count": 19,
   "metadata": {},
   "outputs": [],
   "source": [
    "# Fetch current BTC price\n",
    "# YOUR CODE HERE!\n",
    "btc_data = requests.get(btc_url)\n",
    "\n",
    "btc_content = btc_data.content\n",
    "btc_json = btc_data.json()\n",
    "btc_price = btc_json[\"data\"][\"1\"][\"quotes\"][\"USD\"][\"price\"]\n",
    "# Fetch current eth price\n",
    "# YOUR CODE HERE!]\n",
    "eth_data = requests.get(eth_url)\n",
    "\n",
    "eth_content = eth_data.content\n",
    "eth_json = eth_data.json()\n",
    "eth_price = eth_json[\"data\"][\"1027\"][\"quotes\"][\"USD\"][\"price\"]"
   ]
  },
  {
   "cell_type": "code",
   "execution_count": 22,
   "metadata": {
    "tags": []
   },
   "outputs": [
    {
     "name": "stdout",
     "output_type": "stream",
     "text": [
      "The current valuation of your 1.2 BTC is $27411.6\n",
      "The current valuation of your 5.3 eth is $3433.9759999999997\n",
      "The current valuation of your crypto holdings is $23490.92!\n"
     ]
    }
   ],
   "source": [
    "# Compute current value of my crpto\n",
    "# YOUR CODE HERE!\n",
    "crypto = btc_price + eth_price\n",
    "# Print current crypto wallet balance\n",
    "print(f\"The current valuation of your {btc} BTC is ${btc_price * btc}\")\n",
    "print(f\"The current valuation of your {eth} eth is ${eth_price * eth}\")\n",
    "print(f\"The current valuation of your crypto holdings is ${crypto}!\")"
   ]
  },
  {
   "cell_type": "markdown",
   "metadata": {},
   "source": [
    "### Collect Investments Data Using Alpaca: `SPY` (stocks) and `AGG` (bonds)"
   ]
  },
  {
   "cell_type": "code",
   "execution_count": 24,
   "metadata": {},
   "outputs": [],
   "source": [
    "# Set Alpaca API key and secret\n",
    "# YOUR CODE HERE!\n",
    "alpaca_api_key = os.getenv(\"APCA_API_KEY\")\n",
    "alpaca_secret_key = os.getenv(\"APCA_API_SECRET_KEY\")\n",
    "# Create the Alpaca API object\n",
    "# YOUR CODE HERE!\n",
    "alpaca = tradeapi.REST(\n",
    "    alpaca_api_key,\n",
    "    alpaca_secret_key,\n",
    "    api_version=\"v2\")"
   ]
  },
  {
   "cell_type": "code",
   "execution_count": 13,
   "metadata": {},
   "outputs": [],
   "source": [
    "# Current amount of shares\n",
    "# YOUR CODE HERE!\n",
    "agg = 200\n",
    "spy = 50"
   ]
  },
  {
   "cell_type": "code",
   "execution_count": 25,
   "metadata": {},
   "outputs": [
    {
     "data": {
      "text/html": [
       "<div>\n",
       "<style scoped>\n",
       "    .dataframe tbody tr th:only-of-type {\n",
       "        vertical-align: middle;\n",
       "    }\n",
       "\n",
       "    .dataframe tbody tr th {\n",
       "        vertical-align: top;\n",
       "    }\n",
       "\n",
       "    .dataframe thead tr th {\n",
       "        text-align: left;\n",
       "    }\n",
       "</style>\n",
       "<table border=\"1\" class=\"dataframe\">\n",
       "  <thead>\n",
       "    <tr>\n",
       "      <th></th>\n",
       "      <th colspan=\"5\" halign=\"left\">AGG</th>\n",
       "      <th colspan=\"5\" halign=\"left\">SPY</th>\n",
       "    </tr>\n",
       "    <tr>\n",
       "      <th></th>\n",
       "      <th>open</th>\n",
       "      <th>high</th>\n",
       "      <th>low</th>\n",
       "      <th>close</th>\n",
       "      <th>volume</th>\n",
       "      <th>open</th>\n",
       "      <th>high</th>\n",
       "      <th>low</th>\n",
       "      <th>close</th>\n",
       "      <th>volume</th>\n",
       "    </tr>\n",
       "  </thead>\n",
       "  <tbody>\n",
       "    <tr>\n",
       "      <th>2020-10-13 00:00:00-04:00</th>\n",
       "      <td>118</td>\n",
       "      <td>118.06</td>\n",
       "      <td>117.9294</td>\n",
       "      <td>118.01</td>\n",
       "      <td>3101197</td>\n",
       "      <td>352.16</td>\n",
       "      <td>352.4651</td>\n",
       "      <td>349.09</td>\n",
       "      <td>350.15</td>\n",
       "      <td>61479085</td>\n",
       "    </tr>\n",
       "  </tbody>\n",
       "</table>\n",
       "</div>"
      ],
      "text/plain": [
       "                           AGG                                        SPY  \\\n",
       "                          open    high       low   close   volume    open   \n",
       "2020-10-13 00:00:00-04:00  118  118.06  117.9294  118.01  3101197  352.16   \n",
       "\n",
       "                                                               \n",
       "                               high     low   close    volume  \n",
       "2020-10-13 00:00:00-04:00  352.4651  349.09  350.15  61479085  "
      ]
     },
     "execution_count": 25,
     "metadata": {},
     "output_type": "execute_result"
    }
   ],
   "source": [
    "# Format current date as ISO format\n",
    "# YOUR CODE HERE!\n",
    "today = pd.Timestamp(\"2020-10-13\", tz=\"America/New_York\").isoformat()\n",
    "# Set the tickers\n",
    "tickers = [\"AGG\", \"SPY\"]\n",
    "\n",
    "# Set timeframe to '1D' for Alpaca API\n",
    "timeframe = \"1D\"\n",
    "\n",
    "# Get current closing prices for SPY and AGG\n",
    "# YOUR CODE HERE!\n",
    "portfolio = alpaca.get_barset(\n",
    "    tickers,\n",
    "    timeframe,\n",
    "    start= today,\n",
    "    end = today\n",
    ").df\n",
    "# Preview DataFrame\n",
    "# YOUR CODE HERE!\n",
    "portfolio"
   ]
  },
  {
   "cell_type": "code",
   "execution_count": 26,
   "metadata": {
    "tags": []
   },
   "outputs": [
    {
     "data": {
      "text/html": [
       "<div>\n",
       "<style scoped>\n",
       "    .dataframe tbody tr th:only-of-type {\n",
       "        vertical-align: middle;\n",
       "    }\n",
       "\n",
       "    .dataframe tbody tr th {\n",
       "        vertical-align: top;\n",
       "    }\n",
       "\n",
       "    .dataframe thead th {\n",
       "        text-align: right;\n",
       "    }\n",
       "</style>\n",
       "<table border=\"1\" class=\"dataframe\">\n",
       "  <thead>\n",
       "    <tr style=\"text-align: right;\">\n",
       "      <th></th>\n",
       "      <th>AGG</th>\n",
       "      <th>SPY</th>\n",
       "    </tr>\n",
       "  </thead>\n",
       "  <tbody>\n",
       "    <tr>\n",
       "      <th>2020-10-13</th>\n",
       "      <td>118.01</td>\n",
       "      <td>350.15</td>\n",
       "    </tr>\n",
       "  </tbody>\n",
       "</table>\n",
       "</div>"
      ],
      "text/plain": [
       "               AGG     SPY\n",
       "2020-10-13  118.01  350.15"
      ]
     },
     "execution_count": 26,
     "metadata": {},
     "output_type": "execute_result"
    }
   ],
   "source": [
    "# Pick AGG and SPY close prices\n",
    "# YOUR CODE HERE!\n",
    "closing_prices = pd.DataFrame()\n",
    "closing_prices[\"AGG\"] = portfolio[\"AGG\"][\"close\"]\n",
    "closing_prices[\"SPY\"] = portfolio[\"SPY\"][\"close\"]\n",
    "\n",
    "closing_prices.index = closing_prices.index.date\n",
    "\n",
    "closing_prices"
   ]
  },
  {
   "cell_type": "code",
   "execution_count": 27,
   "metadata": {},
   "outputs": [],
   "source": [
    "agg_close = closing_prices[\"AGG\"][0]\n",
    "spy_close = closing_prices[\"SPY\"][0]"
   ]
  },
  {
   "cell_type": "code",
   "execution_count": 28,
   "metadata": {
    "tags": []
   },
   "outputs": [
    {
     "name": "stdout",
     "output_type": "stream",
     "text": [
      "Current AGG closing price: $118.01\n",
      "Current SPY closing price: $350.15\n"
     ]
    }
   ],
   "source": [
    "# Print AGG and SPY close prices\n",
    "print(f\"Current AGG closing price: ${agg_close}\")\n",
    "print(f\"Current SPY closing price: ${spy_close}\")"
   ]
  },
  {
   "cell_type": "code",
   "execution_count": 29,
   "metadata": {
    "tags": []
   },
   "outputs": [
    {
     "name": "stdout",
     "output_type": "stream",
     "text": [
      "The current value of your 50 SPY shares is $17507.5\n",
      "The current value of your 200 AGG shares is $23602.0\n",
      "The total value of your shares are $41109.5!\n"
     ]
    }
   ],
   "source": [
    "# Compute the current value of shares\n",
    "# YOUR CODE HERE!\n",
    "cv_shares = (my_spy * spy_close) + (my_agg * agg_close)\n",
    "# Print current value of share\n",
    "print(f\"The current value of your {my_spy} SPY shares is ${my_spy * spy_close}\")\n",
    "print(f\"The current value of your {my_agg} AGG shares is ${my_agg * agg_close}\")\n",
    "print(f\"The total value of your shares are ${cv_shares}!\")"
   ]
  },
  {
   "cell_type": "markdown",
   "metadata": {},
   "source": [
    "### Savings Health Analysis"
   ]
  },
  {
   "cell_type": "code",
   "execution_count": 30,
   "metadata": {},
   "outputs": [
    {
     "data": {
      "text/html": [
       "<div>\n",
       "<style scoped>\n",
       "    .dataframe tbody tr th:only-of-type {\n",
       "        vertical-align: middle;\n",
       "    }\n",
       "\n",
       "    .dataframe tbody tr th {\n",
       "        vertical-align: top;\n",
       "    }\n",
       "\n",
       "    .dataframe thead th {\n",
       "        text-align: right;\n",
       "    }\n",
       "</style>\n",
       "<table border=\"1\" class=\"dataframe\">\n",
       "  <thead>\n",
       "    <tr style=\"text-align: right;\">\n",
       "      <th></th>\n",
       "      <th>amount</th>\n",
       "    </tr>\n",
       "    <tr>\n",
       "      <th>investment</th>\n",
       "      <th></th>\n",
       "    </tr>\n",
       "  </thead>\n",
       "  <tbody>\n",
       "    <tr>\n",
       "      <th>crypto</th>\n",
       "      <td>23490.92</td>\n",
       "    </tr>\n",
       "    <tr>\n",
       "      <th>shares</th>\n",
       "      <td>41109.50</td>\n",
       "    </tr>\n",
       "  </tbody>\n",
       "</table>\n",
       "</div>"
      ],
      "text/plain": [
       "              amount\n",
       "investment          \n",
       "crypto      23490.92\n",
       "shares      41109.50"
      ]
     },
     "metadata": {},
     "output_type": "display_data"
    }
   ],
   "source": [
    "# Set monthly household income\n",
    "# YOUR CODE HERE!\n",
    "monthly_income = 12000\n",
    "# Create savings DataFrame\n",
    "# YOUR CODE HERE!\n",
    "savings_df = pd.DataFrame([cv_crypto, cv_shares])\n",
    "investment = [\"crypto\", \"shares\"]\n",
    "savings_df[\"investment\"] = investment\n",
    "savings_df = savings_df.rename(columns= {0 : \"amount\"})\n",
    "savings_df = savings_df.set_index(\"investment\")\n",
    "\n",
    "# Display savings DataFrame\n",
    "display(savings_df)"
   ]
  },
  {
   "cell_type": "code",
   "execution_count": null,
   "metadata": {},
   "outputs": [],
   "source": []
  },
  {
   "cell_type": "code",
   "execution_count": 31,
   "metadata": {},
   "outputs": [
    {
     "data": {
      "image/png": "[encoded data removed]",
      "text/plain": [
       "<Figure size 432x288 with 1 Axes>"
      ]
     },
     "metadata": {},
     "output_type": "display_data"
    }
   ],
   "source": [
    "# Plot savings pie chart\n",
    "# YOUR CODE HERE!\n",
    "plot = savings_df.plot.pie(y=\"amount\",x=\" \")"
   ]
  },
  {
   "cell_type": "code",
   "execution_count": 32,
   "metadata": {
    "tags": []
   },
   "outputs": [
    {
     "name": "stdout",
     "output_type": "stream",
     "text": [
      "Congrats! You have enough money in your emergency fund\n"
     ]
    }
   ],
   "source": [
    "# Set ideal emergency fund\n",
    "emergency_fund = monthly_income * 3\n",
    "\n",
    "# Calculate total amount of savings\n",
    "# YOUR CODE HERE!\n",
    "total_savings = cv_crypto + cv_shares\n",
    "# Validate saving health\n",
    "# YOUR CODE HERE!\n",
    "if total_savings > emergency_fund:\n",
    "    print(\"Congrats! You have enough money in your emergency fund\")\n",
    "else:\n",
    "    print(\"Uh-oh, you need to start saving!\")"
   ]
  },
  {
   "cell_type": "markdown",
   "metadata": {},
   "source": [
    "## Part 2 - Retirement Planning\n",
    "\n",
    "### Monte Carlo Simulation"
   ]
  },
  {
   "cell_type": "code",
   "execution_count": 33,
   "metadata": {},
   "outputs": [],
   "source": [
    "# Set start and end dates of five years back from today.\n",
    "# Sample results may vary from the solution based on the time frame chosen\n",
    "timeframe = \"1D\"\n",
    "start_date_retirement = pd.Timestamp('2015-10-14', tz='America/New_York').isoformat()\n",
    "end_date_retirment = pd.Timestamp('2020-10-14', tz='America/New_York').isoformat()"
   ]
  },
  {
   "cell_type": "code",
   "execution_count": 34,
   "metadata": {},
   "outputs": [
    {
     "data": {
      "text/html": [
       "<div>\n",
       "<style scoped>\n",
       "    .dataframe tbody tr th:only-of-type {\n",
       "        vertical-align: middle;\n",
       "    }\n",
       "\n",
       "    .dataframe tbody tr th {\n",
       "        vertical-align: top;\n",
       "    }\n",
       "\n",
       "    .dataframe thead tr th {\n",
       "        text-align: left;\n",
       "    }\n",
       "</style>\n",
       "<table border=\"1\" class=\"dataframe\">\n",
       "  <thead>\n",
       "    <tr>\n",
       "      <th></th>\n",
       "      <th colspan=\"5\" halign=\"left\">AGG</th>\n",
       "      <th colspan=\"5\" halign=\"left\">SPY</th>\n",
       "    </tr>\n",
       "    <tr>\n",
       "      <th></th>\n",
       "      <th>open</th>\n",
       "      <th>high</th>\n",
       "      <th>low</th>\n",
       "      <th>close</th>\n",
       "      <th>volume</th>\n",
       "      <th>open</th>\n",
       "      <th>high</th>\n",
       "      <th>low</th>\n",
       "      <th>close</th>\n",
       "      <th>volume</th>\n",
       "    </tr>\n",
       "  </thead>\n",
       "  <tbody>\n",
       "    <tr>\n",
       "      <th>2015-10-14 00:00:00-04:00</th>\n",
       "      <td>109.83</td>\n",
       "      <td>110.0500</td>\n",
       "      <td>109.7251</td>\n",
       "      <td>110.03</td>\n",
       "      <td>3785661.0</td>\n",
       "      <td>200.18</td>\n",
       "      <td>200.87</td>\n",
       "      <td>198.9400</td>\n",
       "      <td>199.27</td>\n",
       "      <td>82856686</td>\n",
       "    </tr>\n",
       "    <tr>\n",
       "      <th>2015-10-15 00:00:00-04:00</th>\n",
       "      <td>109.93</td>\n",
       "      <td>110.0499</td>\n",
       "      <td>109.7900</td>\n",
       "      <td>109.89</td>\n",
       "      <td>1792325.0</td>\n",
       "      <td>200.08</td>\n",
       "      <td>202.34</td>\n",
       "      <td>199.6400</td>\n",
       "      <td>202.33</td>\n",
       "      <td>96008389</td>\n",
       "    </tr>\n",
       "    <tr>\n",
       "      <th>2015-10-16 00:00:00-04:00</th>\n",
       "      <td>109.90</td>\n",
       "      <td>109.9400</td>\n",
       "      <td>109.7800</td>\n",
       "      <td>109.78</td>\n",
       "      <td>1497588.0</td>\n",
       "      <td>202.83</td>\n",
       "      <td>203.29</td>\n",
       "      <td>201.9200</td>\n",
       "      <td>203.14</td>\n",
       "      <td>79323870</td>\n",
       "    </tr>\n",
       "    <tr>\n",
       "      <th>2015-10-19 00:00:00-04:00</th>\n",
       "      <td>109.78</td>\n",
       "      <td>109.8950</td>\n",
       "      <td>109.6500</td>\n",
       "      <td>109.85</td>\n",
       "      <td>1289942.0</td>\n",
       "      <td>202.50</td>\n",
       "      <td>203.37</td>\n",
       "      <td>202.1300</td>\n",
       "      <td>203.33</td>\n",
       "      <td>61255929</td>\n",
       "    </tr>\n",
       "    <tr>\n",
       "      <th>2015-10-20 00:00:00-04:00</th>\n",
       "      <td>109.64</td>\n",
       "      <td>109.7800</td>\n",
       "      <td>109.5500</td>\n",
       "      <td>109.65</td>\n",
       "      <td>1672562.0</td>\n",
       "      <td>202.85</td>\n",
       "      <td>203.84</td>\n",
       "      <td>202.5471</td>\n",
       "      <td>203.07</td>\n",
       "      <td>60081395</td>\n",
       "    </tr>\n",
       "  </tbody>\n",
       "</table>\n",
       "</div>"
      ],
      "text/plain": [
       "                              AGG                                         \\\n",
       "                             open      high       low   close     volume   \n",
       "2015-10-14 00:00:00-04:00  109.83  110.0500  109.7251  110.03  3785661.0   \n",
       "2015-10-15 00:00:00-04:00  109.93  110.0499  109.7900  109.89  1792325.0   \n",
       "2015-10-16 00:00:00-04:00  109.90  109.9400  109.7800  109.78  1497588.0   \n",
       "2015-10-19 00:00:00-04:00  109.78  109.8950  109.6500  109.85  1289942.0   \n",
       "2015-10-20 00:00:00-04:00  109.64  109.7800  109.5500  109.65  1672562.0   \n",
       "\n",
       "                              SPY                                      \n",
       "                             open    high       low   close    volume  \n",
       "2015-10-14 00:00:00-04:00  200.18  200.87  198.9400  199.27  82856686  \n",
       "2015-10-15 00:00:00-04:00  200.08  202.34  199.6400  202.33  96008389  \n",
       "2015-10-16 00:00:00-04:00  202.83  203.29  201.9200  203.14  79323870  \n",
       "2015-10-19 00:00:00-04:00  202.50  203.37  202.1300  203.33  61255929  \n",
       "2015-10-20 00:00:00-04:00  202.85  203.84  202.5471  203.07  60081395  "
      ]
     },
     "execution_count": 34,
     "metadata": {},
     "output_type": "execute_result"
    }
   ],
   "source": [
    "# Get 5 years' worth of historical data for SPY and AGG\n",
    "# YOUR CODE HERE!\n",
    "retirement = alpaca.get_barset(\n",
    "    tickers,\n",
    "    timeframe,\n",
    "    start=start_date_retirement,\n",
    "    end=end_date_retirment\n",
    ").df\n",
    "# Display sample data\n",
    "retirement.head()"
   ]
  },
  {
   "cell_type": "code",
   "execution_count": null,
   "metadata": {},
   "outputs": [],
   "source": []
  },
  {
   "cell_type": "code",
   "execution_count": 35,
   "metadata": {},
   "outputs": [],
   "source": [
    "# Configuring a Monte Carlo simulation to forecast 30 years cumulative returns\n",
    "# I initially did this with 1000 simulations but it made my github push too large.\n",
    "# YOUR CODE HERE!\n",
    "forecast = MCSimulation(\n",
    "    portfolio_data=retirement,\n",
    "    weights= [cv_shares/total_savings, cv_crypto/total_savings],\n",
    "    num_simulation = 100,\n",
    "    num_trading_days = 252*30\n",
    ")"
   ]
  },
  {
   "cell_type": "code",
   "execution_count": 36,
   "metadata": {},
   "outputs": [
    {
     "data": {
      "text/html": [
       "<div>\n",
       "<style scoped>\n",
       "    .dataframe tbody tr th:only-of-type {\n",
       "        vertical-align: middle;\n",
       "    }\n",
       "\n",
       "    .dataframe tbody tr th {\n",
       "        vertical-align: top;\n",
       "    }\n",
       "\n",
       "    .dataframe thead tr th {\n",
       "        text-align: left;\n",
       "    }\n",
       "</style>\n",
       "<table border=\"1\" class=\"dataframe\">\n",
       "  <thead>\n",
       "    <tr>\n",
       "      <th></th>\n",
       "      <th colspan=\"6\" halign=\"left\">AGG</th>\n",
       "      <th colspan=\"6\" halign=\"left\">SPY</th>\n",
       "    </tr>\n",
       "    <tr>\n",
       "      <th></th>\n",
       "      <th>open</th>\n",
       "      <th>high</th>\n",
       "      <th>low</th>\n",
       "      <th>close</th>\n",
       "      <th>volume</th>\n",
       "      <th>daily_return</th>\n",
       "      <th>open</th>\n",
       "      <th>high</th>\n",
       "      <th>low</th>\n",
       "      <th>close</th>\n",
       "      <th>volume</th>\n",
       "      <th>daily_return</th>\n",
       "    </tr>\n",
       "  </thead>\n",
       "  <tbody>\n",
       "    <tr>\n",
       "      <th>2015-10-14 00:00:00-04:00</th>\n",
       "      <td>109.83</td>\n",
       "      <td>110.0500</td>\n",
       "      <td>109.7251</td>\n",
       "      <td>110.03</td>\n",
       "      <td>3785661.0</td>\n",
       "      <td>NaN</td>\n",
       "      <td>200.18</td>\n",
       "      <td>200.87</td>\n",
       "      <td>198.9400</td>\n",
       "      <td>199.27</td>\n",
       "      <td>82856686</td>\n",
       "      <td>NaN</td>\n",
       "    </tr>\n",
       "    <tr>\n",
       "      <th>2015-10-15 00:00:00-04:00</th>\n",
       "      <td>109.93</td>\n",
       "      <td>110.0499</td>\n",
       "      <td>109.7900</td>\n",
       "      <td>109.89</td>\n",
       "      <td>1792325.0</td>\n",
       "      <td>-0.001272</td>\n",
       "      <td>200.08</td>\n",
       "      <td>202.34</td>\n",
       "      <td>199.6400</td>\n",
       "      <td>202.33</td>\n",
       "      <td>96008389</td>\n",
       "      <td>0.015356</td>\n",
       "    </tr>\n",
       "    <tr>\n",
       "      <th>2015-10-16 00:00:00-04:00</th>\n",
       "      <td>109.90</td>\n",
       "      <td>109.9400</td>\n",
       "      <td>109.7800</td>\n",
       "      <td>109.78</td>\n",
       "      <td>1497588.0</td>\n",
       "      <td>-0.001001</td>\n",
       "      <td>202.83</td>\n",
       "      <td>203.29</td>\n",
       "      <td>201.9200</td>\n",
       "      <td>203.14</td>\n",
       "      <td>79323870</td>\n",
       "      <td>0.004003</td>\n",
       "    </tr>\n",
       "    <tr>\n",
       "      <th>2015-10-19 00:00:00-04:00</th>\n",
       "      <td>109.78</td>\n",
       "      <td>109.8950</td>\n",
       "      <td>109.6500</td>\n",
       "      <td>109.85</td>\n",
       "      <td>1289942.0</td>\n",
       "      <td>0.000638</td>\n",
       "      <td>202.50</td>\n",
       "      <td>203.37</td>\n",
       "      <td>202.1300</td>\n",
       "      <td>203.33</td>\n",
       "      <td>61255929</td>\n",
       "      <td>0.000935</td>\n",
       "    </tr>\n",
       "    <tr>\n",
       "      <th>2015-10-20 00:00:00-04:00</th>\n",
       "      <td>109.64</td>\n",
       "      <td>109.7800</td>\n",
       "      <td>109.5500</td>\n",
       "      <td>109.65</td>\n",
       "      <td>1672562.0</td>\n",
       "      <td>-0.001821</td>\n",
       "      <td>202.85</td>\n",
       "      <td>203.84</td>\n",
       "      <td>202.5471</td>\n",
       "      <td>203.07</td>\n",
       "      <td>60081395</td>\n",
       "      <td>-0.001279</td>\n",
       "    </tr>\n",
       "  </tbody>\n",
       "</table>\n",
       "</div>"
      ],
      "text/plain": [
       "                              AGG                                         \\\n",
       "                             open      high       low   close     volume   \n",
       "2015-10-14 00:00:00-04:00  109.83  110.0500  109.7251  110.03  3785661.0   \n",
       "2015-10-15 00:00:00-04:00  109.93  110.0499  109.7900  109.89  1792325.0   \n",
       "2015-10-16 00:00:00-04:00  109.90  109.9400  109.7800  109.78  1497588.0   \n",
       "2015-10-19 00:00:00-04:00  109.78  109.8950  109.6500  109.85  1289942.0   \n",
       "2015-10-20 00:00:00-04:00  109.64  109.7800  109.5500  109.65  1672562.0   \n",
       "\n",
       "                                           SPY                            \\\n",
       "                          daily_return    open    high       low   close   \n",
       "2015-10-14 00:00:00-04:00          NaN  200.18  200.87  198.9400  199.27   \n",
       "2015-10-15 00:00:00-04:00    -0.001272  200.08  202.34  199.6400  202.33   \n",
       "2015-10-16 00:00:00-04:00    -0.001001  202.83  203.29  201.9200  203.14   \n",
       "2015-10-19 00:00:00-04:00     0.000638  202.50  203.37  202.1300  203.33   \n",
       "2015-10-20 00:00:00-04:00    -0.001821  202.85  203.84  202.5471  203.07   \n",
       "\n",
       "                                                  \n",
       "                             volume daily_return  \n",
       "2015-10-14 00:00:00-04:00  82856686          NaN  \n",
       "2015-10-15 00:00:00-04:00  96008389     0.015356  \n",
       "2015-10-16 00:00:00-04:00  79323870     0.004003  \n",
       "2015-10-19 00:00:00-04:00  61255929     0.000935  \n",
       "2015-10-20 00:00:00-04:00  60081395    -0.001279  "
      ]
     },
     "execution_count": 36,
     "metadata": {},
     "output_type": "execute_result"
    }
   ],
   "source": [
    "# Printing the simulation input data\n",
    "# YOUR CODE HERE!\n",
    "forecast.portfolio_data.head()"
   ]
  },
  {
   "cell_type": "code",
   "execution_count": 37,
   "metadata": {
    "tags": []
   },
   "outputs": [
    {
     "name": "stdout",
     "output_type": "stream",
     "text": [
      "Running Monte Carlo simulation number 0.\n",
      "Running Monte Carlo simulation number 10.\n",
      "Running Monte Carlo simulation number 20.\n",
      "Running Monte Carlo simulation number 30.\n",
      "Running Monte Carlo simulation number 40.\n",
      "Running Monte Carlo simulation number 50.\n",
      "Running Monte Carlo simulation number 60.\n",
      "Running Monte Carlo simulation number 70.\n",
      "Running Monte Carlo simulation number 80.\n",
      "Running Monte Carlo simulation number 90.\n"
     ]
    },
    {
     "data": {
      "text/html": [
       "<div>\n",
       "<style scoped>\n",
       "    .dataframe tbody tr th:only-of-type {\n",
       "        vertical-align: middle;\n",
       "    }\n",
       "\n",
       "    .dataframe tbody tr th {\n",
       "        vertical-align: top;\n",
       "    }\n",
       "\n",
       "    .dataframe thead th {\n",
       "        text-align: right;\n",
       "    }\n",
       "</style>\n",
       "<table border=\"1\" class=\"dataframe\">\n",
       "  <thead>\n",
       "    <tr style=\"text-align: right;\">\n",
       "      <th></th>\n",
       "      <th>0</th>\n",
       "      <th>1</th>\n",
       "      <th>2</th>\n",
       "      <th>3</th>\n",
       "      <th>4</th>\n",
       "      <th>5</th>\n",
       "      <th>6</th>\n",
       "      <th>7</th>\n",
       "      <th>8</th>\n",
       "      <th>9</th>\n",
       "      <th>...</th>\n",
       "      <th>90</th>\n",
       "      <th>91</th>\n",
       "      <th>92</th>\n",
       "      <th>93</th>\n",
       "      <th>94</th>\n",
       "      <th>95</th>\n",
       "      <th>96</th>\n",
       "      <th>97</th>\n",
       "      <th>98</th>\n",
       "      <th>99</th>\n",
       "    </tr>\n",
       "  </thead>\n",
       "  <tbody>\n",
       "    <tr>\n",
       "      <th>0</th>\n",
       "      <td>1.000000</td>\n",
       "      <td>1.000000</td>\n",
       "      <td>1.000000</td>\n",
       "      <td>1.000000</td>\n",
       "      <td>1.000000</td>\n",
       "      <td>1.000000</td>\n",
       "      <td>1.000000</td>\n",
       "      <td>1.000000</td>\n",
       "      <td>1.000000</td>\n",
       "      <td>1.000000</td>\n",
       "      <td>...</td>\n",
       "      <td>1.000000</td>\n",
       "      <td>1.000000</td>\n",
       "      <td>1.000000</td>\n",
       "      <td>1.000000</td>\n",
       "      <td>1.000000</td>\n",
       "      <td>1.000000</td>\n",
       "      <td>1.000000</td>\n",
       "      <td>1.000000</td>\n",
       "      <td>1.000000</td>\n",
       "      <td>1.000000</td>\n",
       "    </tr>\n",
       "    <tr>\n",
       "      <th>1</th>\n",
       "      <td>0.998244</td>\n",
       "      <td>0.995870</td>\n",
       "      <td>0.990056</td>\n",
       "      <td>0.999837</td>\n",
       "      <td>1.001620</td>\n",
       "      <td>1.008869</td>\n",
       "      <td>1.004772</td>\n",
       "      <td>1.003898</td>\n",
       "      <td>0.998207</td>\n",
       "      <td>0.993708</td>\n",
       "      <td>...</td>\n",
       "      <td>0.990969</td>\n",
       "      <td>1.004351</td>\n",
       "      <td>1.000741</td>\n",
       "      <td>1.001538</td>\n",
       "      <td>0.994218</td>\n",
       "      <td>1.002354</td>\n",
       "      <td>1.008167</td>\n",
       "      <td>0.990551</td>\n",
       "      <td>0.989307</td>\n",
       "      <td>1.001643</td>\n",
       "    </tr>\n",
       "    <tr>\n",
       "      <th>2</th>\n",
       "      <td>0.998359</td>\n",
       "      <td>0.994856</td>\n",
       "      <td>0.996829</td>\n",
       "      <td>1.005012</td>\n",
       "      <td>1.007148</td>\n",
       "      <td>1.014147</td>\n",
       "      <td>1.009198</td>\n",
       "      <td>1.004541</td>\n",
       "      <td>1.001307</td>\n",
       "      <td>0.992928</td>\n",
       "      <td>...</td>\n",
       "      <td>0.990582</td>\n",
       "      <td>1.001874</td>\n",
       "      <td>1.001703</td>\n",
       "      <td>1.002875</td>\n",
       "      <td>0.987614</td>\n",
       "      <td>0.998995</td>\n",
       "      <td>1.009609</td>\n",
       "      <td>0.994772</td>\n",
       "      <td>0.998513</td>\n",
       "      <td>0.996649</td>\n",
       "    </tr>\n",
       "    <tr>\n",
       "      <th>3</th>\n",
       "      <td>1.010813</td>\n",
       "      <td>0.995138</td>\n",
       "      <td>0.996995</td>\n",
       "      <td>0.999330</td>\n",
       "      <td>1.008571</td>\n",
       "      <td>1.018590</td>\n",
       "      <td>1.009529</td>\n",
       "      <td>1.005624</td>\n",
       "      <td>0.993949</td>\n",
       "      <td>0.994522</td>\n",
       "      <td>...</td>\n",
       "      <td>0.988505</td>\n",
       "      <td>0.996963</td>\n",
       "      <td>0.995824</td>\n",
       "      <td>1.003221</td>\n",
       "      <td>0.987948</td>\n",
       "      <td>0.988159</td>\n",
       "      <td>1.020334</td>\n",
       "      <td>1.004826</td>\n",
       "      <td>0.990694</td>\n",
       "      <td>0.999311</td>\n",
       "    </tr>\n",
       "    <tr>\n",
       "      <th>4</th>\n",
       "      <td>1.016608</td>\n",
       "      <td>0.996313</td>\n",
       "      <td>0.990589</td>\n",
       "      <td>1.003055</td>\n",
       "      <td>1.010321</td>\n",
       "      <td>1.011080</td>\n",
       "      <td>1.001524</td>\n",
       "      <td>1.004643</td>\n",
       "      <td>0.994530</td>\n",
       "      <td>0.990442</td>\n",
       "      <td>...</td>\n",
       "      <td>0.987485</td>\n",
       "      <td>1.002039</td>\n",
       "      <td>0.996854</td>\n",
       "      <td>0.992936</td>\n",
       "      <td>0.990382</td>\n",
       "      <td>0.978917</td>\n",
       "      <td>1.021842</td>\n",
       "      <td>1.013361</td>\n",
       "      <td>0.980670</td>\n",
       "      <td>0.996003</td>\n",
       "    </tr>\n",
       "    <tr>\n",
       "      <th>...</th>\n",
       "      <td>...</td>\n",
       "      <td>...</td>\n",
       "      <td>...</td>\n",
       "      <td>...</td>\n",
       "      <td>...</td>\n",
       "      <td>...</td>\n",
       "      <td>...</td>\n",
       "      <td>...</td>\n",
       "      <td>...</td>\n",
       "      <td>...</td>\n",
       "      <td>...</td>\n",
       "      <td>...</td>\n",
       "      <td>...</td>\n",
       "      <td>...</td>\n",
       "      <td>...</td>\n",
       "      <td>...</td>\n",
       "      <td>...</td>\n",
       "      <td>...</td>\n",
       "      <td>...</td>\n",
       "      <td>...</td>\n",
       "      <td>...</td>\n",
       "    </tr>\n",
       "    <tr>\n",
       "      <th>7556</th>\n",
       "      <td>2.170550</td>\n",
       "      <td>6.787720</td>\n",
       "      <td>9.525785</td>\n",
       "      <td>4.772286</td>\n",
       "      <td>3.153642</td>\n",
       "      <td>3.108438</td>\n",
       "      <td>4.680149</td>\n",
       "      <td>9.718937</td>\n",
       "      <td>5.335009</td>\n",
       "      <td>6.244532</td>\n",
       "      <td>...</td>\n",
       "      <td>4.713155</td>\n",
       "      <td>7.386670</td>\n",
       "      <td>5.150821</td>\n",
       "      <td>5.356962</td>\n",
       "      <td>9.153527</td>\n",
       "      <td>2.846888</td>\n",
       "      <td>4.816785</td>\n",
       "      <td>6.680830</td>\n",
       "      <td>3.122644</td>\n",
       "      <td>3.114393</td>\n",
       "    </tr>\n",
       "    <tr>\n",
       "      <th>7557</th>\n",
       "      <td>2.166403</td>\n",
       "      <td>6.824423</td>\n",
       "      <td>9.492389</td>\n",
       "      <td>4.783895</td>\n",
       "      <td>3.163516</td>\n",
       "      <td>3.108394</td>\n",
       "      <td>4.678151</td>\n",
       "      <td>9.776223</td>\n",
       "      <td>5.328466</td>\n",
       "      <td>6.224060</td>\n",
       "      <td>...</td>\n",
       "      <td>4.738915</td>\n",
       "      <td>7.415568</td>\n",
       "      <td>5.154872</td>\n",
       "      <td>5.368238</td>\n",
       "      <td>9.095351</td>\n",
       "      <td>2.839854</td>\n",
       "      <td>4.789978</td>\n",
       "      <td>6.663206</td>\n",
       "      <td>3.125798</td>\n",
       "      <td>3.105090</td>\n",
       "    </tr>\n",
       "    <tr>\n",
       "      <th>7558</th>\n",
       "      <td>2.168710</td>\n",
       "      <td>6.895386</td>\n",
       "      <td>9.465265</td>\n",
       "      <td>4.781487</td>\n",
       "      <td>3.157543</td>\n",
       "      <td>3.108410</td>\n",
       "      <td>4.696947</td>\n",
       "      <td>9.790618</td>\n",
       "      <td>5.346776</td>\n",
       "      <td>6.244327</td>\n",
       "      <td>...</td>\n",
       "      <td>4.739636</td>\n",
       "      <td>7.375840</td>\n",
       "      <td>5.173502</td>\n",
       "      <td>5.340961</td>\n",
       "      <td>9.162118</td>\n",
       "      <td>2.850614</td>\n",
       "      <td>4.776225</td>\n",
       "      <td>6.619251</td>\n",
       "      <td>3.115517</td>\n",
       "      <td>3.103322</td>\n",
       "    </tr>\n",
       "    <tr>\n",
       "      <th>7559</th>\n",
       "      <td>2.193267</td>\n",
       "      <td>6.837048</td>\n",
       "      <td>9.412736</td>\n",
       "      <td>4.768919</td>\n",
       "      <td>3.158069</td>\n",
       "      <td>3.111386</td>\n",
       "      <td>4.686906</td>\n",
       "      <td>9.814586</td>\n",
       "      <td>5.365516</td>\n",
       "      <td>6.241313</td>\n",
       "      <td>...</td>\n",
       "      <td>4.720271</td>\n",
       "      <td>7.355420</td>\n",
       "      <td>5.171851</td>\n",
       "      <td>5.354988</td>\n",
       "      <td>9.139184</td>\n",
       "      <td>2.846918</td>\n",
       "      <td>4.764064</td>\n",
       "      <td>6.616504</td>\n",
       "      <td>3.123723</td>\n",
       "      <td>3.102539</td>\n",
       "    </tr>\n",
       "    <tr>\n",
       "      <th>7560</th>\n",
       "      <td>2.207052</td>\n",
       "      <td>6.850661</td>\n",
       "      <td>9.450296</td>\n",
       "      <td>4.765179</td>\n",
       "      <td>3.184142</td>\n",
       "      <td>3.097657</td>\n",
       "      <td>4.682505</td>\n",
       "      <td>9.811394</td>\n",
       "      <td>5.403492</td>\n",
       "      <td>6.274748</td>\n",
       "      <td>...</td>\n",
       "      <td>4.739384</td>\n",
       "      <td>7.350826</td>\n",
       "      <td>5.162660</td>\n",
       "      <td>5.340690</td>\n",
       "      <td>9.122150</td>\n",
       "      <td>2.851444</td>\n",
       "      <td>4.758214</td>\n",
       "      <td>6.626943</td>\n",
       "      <td>3.109205</td>\n",
       "      <td>3.126725</td>\n",
       "    </tr>\n",
       "  </tbody>\n",
       "</table>\n",
       "<p>7561 rows × 100 columns</p>\n",
       "</div>"
      ],
      "text/plain": [
       "            0         1         2         3         4         5         6   \\\n",
       "0     1.000000  1.000000  1.000000  1.000000  1.000000  1.000000  1.000000   \n",
       "1     0.998244  0.995870  0.990056  0.999837  1.001620  1.008869  1.004772   \n",
       "2     0.998359  0.994856  0.996829  1.005012  1.007148  1.014147  1.009198   \n",
       "3     1.010813  0.995138  0.996995  0.999330  1.008571  1.018590  1.009529   \n",
       "4     1.016608  0.996313  0.990589  1.003055  1.010321  1.011080  1.001524   \n",
       "...        ...       ...       ...       ...       ...       ...       ...   \n",
       "7556  2.170550  6.787720  9.525785  4.772286  3.153642  3.108438  4.680149   \n",
       "7557  2.166403  6.824423  9.492389  4.783895  3.163516  3.108394  4.678151   \n",
       "7558  2.168710  6.895386  9.465265  4.781487  3.157543  3.108410  4.696947   \n",
       "7559  2.193267  6.837048  9.412736  4.768919  3.158069  3.111386  4.686906   \n",
       "7560  2.207052  6.850661  9.450296  4.765179  3.184142  3.097657  4.682505   \n",
       "\n",
       "            7         8         9   ...        90        91        92  \\\n",
       "0     1.000000  1.000000  1.000000  ...  1.000000  1.000000  1.000000   \n",
       "1     1.003898  0.998207  0.993708  ...  0.990969  1.004351  1.000741   \n",
       "2     1.004541  1.001307  0.992928  ...  0.990582  1.001874  1.001703   \n",
       "3     1.005624  0.993949  0.994522  ...  0.988505  0.996963  0.995824   \n",
       "4     1.004643  0.994530  0.990442  ...  0.987485  1.002039  0.996854   \n",
       "...        ...       ...       ...  ...       ...       ...       ...   \n",
       "7556  9.718937  5.335009  6.244532  ...  4.713155  7.386670  5.150821   \n",
       "7557  9.776223  5.328466  6.224060  ...  4.738915  7.415568  5.154872   \n",
       "7558  9.790618  5.346776  6.244327  ...  4.739636  7.375840  5.173502   \n",
       "7559  9.814586  5.365516  6.241313  ...  4.720271  7.355420  5.171851   \n",
       "7560  9.811394  5.403492  6.274748  ...  4.739384  7.350826  5.162660   \n",
       "\n",
       "            93        94        95        96        97        98        99  \n",
       "0     1.000000  1.000000  1.000000  1.000000  1.000000  1.000000  1.000000  \n",
       "1     1.001538  0.994218  1.002354  1.008167  0.990551  0.989307  1.001643  \n",
       "2     1.002875  0.987614  0.998995  1.009609  0.994772  0.998513  0.996649  \n",
       "3     1.003221  0.987948  0.988159  1.020334  1.004826  0.990694  0.999311  \n",
       "4     0.992936  0.990382  0.978917  1.021842  1.013361  0.980670  0.996003  \n",
       "...        ...       ...       ...       ...       ...       ...       ...  \n",
       "7556  5.356962  9.153527  2.846888  4.816785  6.680830  3.122644  3.114393  \n",
       "7557  5.368238  9.095351  2.839854  4.789978  6.663206  3.125798  3.105090  \n",
       "7558  5.340961  9.162118  2.850614  4.776225  6.619251  3.115517  3.103322  \n",
       "7559  5.354988  9.139184  2.846918  4.764064  6.616504  3.123723  3.102539  \n",
       "7560  5.340690  9.122150  2.851444  4.758214  6.626943  3.109205  3.126725  \n",
       "\n",
       "[7561 rows x 100 columns]"
      ]
     },
     "execution_count": 37,
     "metadata": {},
     "output_type": "execute_result"
    }
   ],
   "source": [
    "# Running a Monte Carlo simulation to forecast 30 years cumulative returns\n",
    "# YOUR CODE HERE!\n",
    "forecast.calc_cumulative_return()"
   ]
  },
  {
   "cell_type": "code",
   "execution_count": 38,
   "metadata": {},
   "outputs": [
    {
     "data": {
      "image/png": "[encoded data removed]",
      "text/plain": [
       "<Figure size 432x288 with 1 Axes>"
      ]
     },
     "metadata": {
      "needs_background": "light"
     },
     "output_type": "display_data"
    }
   ],
   "source": [
    "# Plot simulation outcomes\n",
    "# YOUR CODE HERE!\n",
    "forecast_plot = forecast.plot_simulation()"
   ]
  },
  {
   "cell_type": "code",
   "execution_count": 39,
   "metadata": {},
   "outputs": [
    {
     "data": {
      "image/png": "[encoded data removed]",
      "text/plain": [
       "<Figure size 432x288 with 1 Axes>"
      ]
     },
     "metadata": {
      "needs_background": "light"
     },
     "output_type": "display_data"
    }
   ],
   "source": [
    "# Plot probability distribution and confidence intervals\n",
    "# YOUR CODE HERE!\n",
    "forecast_distribution = forecast.plot_distribution()"
   ]
  },
  {
   "cell_type": "markdown",
   "metadata": {},
   "source": [
    "### Retirement Analysis"
   ]
  },
  {
   "cell_type": "code",
   "execution_count": 40,
   "metadata": {
    "tags": []
   },
   "outputs": [
    {
     "name": "stdout",
     "output_type": "stream",
     "text": [
      "count           100.000000\n",
      "mean              5.364535\n",
      "std               2.538841\n",
      "min               2.115974\n",
      "25%               3.828179\n",
      "50%               4.652791\n",
      "75%               6.027477\n",
      "max              16.807895\n",
      "95% CI Lower      2.379997\n",
      "95% CI Upper     12.051364\n",
      "Name: 7560, dtype: float64\n"
     ]
    }
   ],
   "source": [
    "# Fetch summary statistics from the Monte Carlo simulation results\n",
    "# YOUR CODE HERE!\n",
    "monte_carlo_summary = forecast.summarize_cumulative_return()\n",
    "# Print summary statistics\n",
    "# YOUR CODE HERE!\n",
    "print(monte_carlo_summary)"
   ]
  },
  {
   "cell_type": "markdown",
   "metadata": {},
   "source": [
    "### Calculate the expected portfolio return at the 95% lower and upper confidence intervals based on a `$20,000` initial investment."
   ]
  },
  {
   "cell_type": "code",
   "execution_count": 41,
   "metadata": {
    "tags": []
   },
   "outputs": [
    {
     "name": "stdout",
     "output_type": "stream",
     "text": [
      "There is a 95% chance that an initial investment of $20000 in the portfolio over the next 30 years will end within in the range of $47599.94 and $241027.28\n"
     ]
    }
   ],
   "source": [
    "# Set initial investment\n",
    "initial_investment = 20000\n",
    "\n",
    "# Use the lower and upper `95%` confidence intervals to calculate the range of the possible outcomes of our $20,000\n",
    "# YOUR CODE HERE!\n",
    "monte_lower = round(monte_carlo_summary[8]*initial_investment, 2)\n",
    "monte_upper = round(monte_carlo_summary[9]*initial_investment, 2)\n",
    "# Print results\n",
    "print(f\"There is a 95% chance that an initial investment of ${initial_investment} in the portfolio\"\n",
    "      f\" over the next 30 years will end within in the range of\"\n",
    "      f\" ${monte_lower} and ${monte_upper}\")"
   ]
  },
  {
   "cell_type": "markdown",
   "metadata": {},
   "source": [
    "### Calculate the expected portfolio return at the `95%` lower and upper confidence intervals based on a `50%` increase in the initial investment."
   ]
  },
  {
   "cell_type": "code",
   "execution_count": 44,
   "metadata": {
    "tags": []
   },
   "outputs": [
    {
     "name": "stdout",
     "output_type": "stream",
     "text": [
      "There is a 95% chance that an initial investment of $30000.0 in the portfolio over the next 30 years will end within in the range of $71399.91 and $361540.93\n"
     ]
    }
   ],
   "source": [
    "# Set initial investment\n",
    "initial_investment = 20000 * 1.5\n",
    "\n",
    "# Use the lower and upper `95%` confidence intervals to calculate the range of the possible outcomes of our $30,000\n",
    "# YOUR CODE HERE!\n",
    "monte_lower = round(monte_carlo_summary[8]*initial_investment, 2)\n",
    "monte_upper = round(monte_carlo_summary[9]*initial_investment, 2)\n",
    "# Print results\n",
    "print(f\"There is a 95% chance that an initial investment of ${initial_investment} in the portfolio\"\n",
    "      f\" over the next 30 years will end within in the range of\"\n",
    "      f\" ${monte_lower} and ${monte_upper}\")"
   ]
  },
  {
   "cell_type": "markdown",
   "metadata": {},
   "source": [
    "## Optional Challenge - Early Retirement\n",
    "\n",
    "\n",
    "### Five Years Retirement Option"
   ]
  },
  {
   "cell_type": "code",
   "execution_count": 47,
   "metadata": {},
   "outputs": [],
   "source": [
    "# Configuring a Monte Carlo simulation to forecast 5 years cumulative returns\n",
    "# YOUR CODE HERE!"
   ]
  },
  {
   "cell_type": "code",
   "execution_count": 48,
   "metadata": {},
   "outputs": [],
   "source": [
    "# Running a Monte Carlo simulation to forecast 5 years cumulative returns\n",
    "# YOUR CODE HERE!"
   ]
  },
  {
   "cell_type": "code",
   "execution_count": 49,
   "metadata": {},
   "outputs": [],
   "source": [
    "# Plot simulation outcomes\n",
    "# YOUR CODE HERE!"
   ]
  },
  {
   "cell_type": "code",
   "execution_count": 50,
   "metadata": {},
   "outputs": [],
   "source": [
    "# Plot probability distribution and confidence intervals\n",
    "# YOUR CODE HERE!"
   ]
  },
  {
   "cell_type": "code",
   "execution_count": 51,
   "metadata": {},
   "outputs": [],
   "source": [
    "# Fetch summary statistics from the Monte Carlo simulation results\n",
    "# YOUR CODE HERE!\n",
    "\n",
    "# Print summary statistics\n",
    "# YOUR CODE HERE!"
   ]
  },
  {
   "cell_type": "code",
   "execution_count": 52,
   "metadata": {},
   "outputs": [],
   "source": [
    "# Set initial investment\n",
    "# YOUR CODE HERE!\n",
    "\n",
    "# Use the lower and upper `95%` confidence intervals to calculate the range of the possible outcomes of our $60,000\n",
    "# YOUR CODE HERE!\n",
    "\n"
   ]
  },
  {
   "cell_type": "markdown",
   "metadata": {},
   "source": [
    "### Ten Years Retirement Option"
   ]
  },
  {
   "cell_type": "code",
   "execution_count": 53,
   "metadata": {},
   "outputs": [],
   "source": [
    "# Configuring a Monte Carlo simulation to forecast 10 years cumulative returns\n",
    "# YOUR CODE HERE!"
   ]
  },
  {
   "cell_type": "code",
   "execution_count": 54,
   "metadata": {},
   "outputs": [],
   "source": [
    "# Running a Monte Carlo simulation to forecast 10 years cumulative returns\n",
    "# YOUR CODE HERE!"
   ]
  },
  {
   "cell_type": "code",
   "execution_count": 55,
   "metadata": {},
   "outputs": [],
   "source": [
    "# Plot simulation outcomes\n",
    "# YOUR CODE HERE!"
   ]
  },
  {
   "cell_type": "code",
   "execution_count": 56,
   "metadata": {},
   "outputs": [],
   "source": [
    "# Plot probability distribution and confidence intervals\n",
    "# YOUR CODE HERE!"
   ]
  },
  {
   "cell_type": "code",
   "execution_count": 57,
   "metadata": {},
   "outputs": [],
   "source": [
    "# Fetch summary statistics from the Monte Carlo simulation results\n",
    "# YOUR CODE HERE!\n",
    "\n",
    "# Print summary statistics\n",
    "# YOUR CODE HERE!"
   ]
  },
  {
   "cell_type": "code",
   "execution_count": 58,
   "metadata": {},
   "outputs": [],
   "source": [
    "# Set initial investment\n",
    "# YOUR CODE HERE!\n",
    "\n",
    "# Use the lower and upper `95%` confidence intervals to calculate the range of the possible outcomes of our $60,000\n",
    "# YOUR CODE HERE!\n",
    "\n"
   ]
  },
  {
   "cell_type": "code",
   "execution_count": null,
   "metadata": {},
   "outputs": [],
   "source": []
  },
  {
   "cell_type": "code",
   "execution_count": null,
   "metadata": {},
   "outputs": [],
   "source": []
  },
  {
   "cell_type": "code",
   "execution_count": null,
   "metadata": {},
   "outputs": [],
   "source": []
  }
 ],
 "metadata": {
  "kernelspec": {
   "display_name": "Python 3",
   "language": "python",
   "name": "python3"
  },
  "language_info": {
   "codemirror_mode": {
    "name": "ipython",
    "version": 3
   },
   "file_extension": ".py",
   "mimetype": "text/x-python",
   "name": "python",
   "nbconvert_exporter": "python",
   "pygments_lexer": "ipython3",
   "version": "3.8.3"
  }
 },
 "nbformat": 4,
 "nbformat_minor": 4
}
